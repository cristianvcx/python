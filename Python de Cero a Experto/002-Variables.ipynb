{
 "cells": [
  {
   "cell_type": "markdown",
   "id": "6026d27b",
   "metadata": {},
   "source": [
    "# Variables\n",
    "Las variables en python se crean cuando se define por primera vez, es decir, cuando se les asigna un valor por primera vez. Para asignar un valor a una variable se utiliza el operador de igualdad (=). A la izquierda de la igualdad se escribe el nombre de la variable y a la derecha el valor que se quiere dar a la variable: `nombre_de_la_variable = su_valor`\n",
    "\n",
    "Es conveniente darle un nombre a una variable que tenga sentido en cuanto al dato que guarde, para tener una comprension a la hora de leer las lineas de codigo."
   ]
  },
  {
   "cell_type": "code",
   "execution_count": 1,
   "id": "1d43ba5a",
   "metadata": {},
   "outputs": [
    {
     "data": {
      "text/plain": [
       "3"
      ]
     },
     "execution_count": 1,
     "metadata": {},
     "output_type": "execute_result"
    }
   ],
   "source": [
    "numero = 3\n",
    "numero"
   ]
  },
  {
   "cell_type": "code",
   "execution_count": 3,
   "id": "a245ca29",
   "metadata": {},
   "outputs": [
    {
     "data": {
      "text/plain": [
       "'hola'"
      ]
     },
     "execution_count": 3,
     "metadata": {},
     "output_type": "execute_result"
    }
   ],
   "source": [
    "string = \"hola\"\n",
    "string"
   ]
  },
  {
   "cell_type": "markdown",
   "id": "092188e2",
   "metadata": {},
   "source": [
    "## Existen restricciones a la hora de llamarla (Nombrarlas)\n",
    "- No pueden contener caracter especiales: `*`,`-`,`´`,`:`,etc.\n",
    "- No pueden empezar con numeros\n",
    "- No se pueden llamar igual a las palabras reservadas en python: `'False'`, `'None'`, `'True'`, `'and'`,etc.\n",
    "- No pueden contener espacios: Para eviatar los espacios podemos asignarte guiones bajos `nombre_variables` o la segunda palabra con mayusculas `nombreVariable`\n",
    "\n",
    "##### Nota : No es recomendable escribir el nombre de una variable con la primera letras mayusculas, ya que eso lo ocuparemos mas adelante para las `Clases`"
   ]
  },
  {
   "cell_type": "code",
   "execution_count": 1,
   "id": "1f17fd05",
   "metadata": {},
   "outputs": [],
   "source": [
    "nombre, edad = \"Danilo\", 63"
   ]
  },
  {
   "cell_type": "code",
   "execution_count": 2,
   "id": "a67fd6a1",
   "metadata": {},
   "outputs": [
    {
     "data": {
      "text/plain": [
       "'Danilo'"
      ]
     },
     "execution_count": 2,
     "metadata": {},
     "output_type": "execute_result"
    }
   ],
   "source": [
    "nombre"
   ]
  },
  {
   "cell_type": "code",
   "execution_count": 3,
   "id": "4d42bf1b",
   "metadata": {},
   "outputs": [
    {
     "data": {
      "text/plain": [
       "63"
      ]
     },
     "execution_count": 3,
     "metadata": {},
     "output_type": "execute_result"
    }
   ],
   "source": [
    "edad"
   ]
  },
  {
   "cell_type": "markdown",
   "id": "ede4de64",
   "metadata": {},
   "source": [
    "## Tipo de dato"
   ]
  },
  {
   "cell_type": "code",
   "execution_count": 4,
   "id": "0f7beeef",
   "metadata": {},
   "outputs": [
    {
     "data": {
      "text/plain": [
       "str"
      ]
     },
     "execution_count": 4,
     "metadata": {},
     "output_type": "execute_result"
    }
   ],
   "source": [
    "type(nombre)"
   ]
  },
  {
   "cell_type": "code",
   "execution_count": 5,
   "id": "ecebaff0",
   "metadata": {},
   "outputs": [
    {
     "data": {
      "text/plain": [
       "int"
      ]
     },
     "execution_count": 5,
     "metadata": {},
     "output_type": "execute_result"
    }
   ],
   "source": [
    "type(edad)"
   ]
  }
 ],
 "metadata": {
  "kernelspec": {
   "display_name": "Python 3 (ipykernel)",
   "language": "python",
   "name": "python3"
  },
  "language_info": {
   "codemirror_mode": {
    "name": "ipython",
    "version": 3
   },
   "file_extension": ".py",
   "mimetype": "text/x-python",
   "name": "python",
   "nbconvert_exporter": "python",
   "pygments_lexer": "ipython3",
   "version": "3.11.3"
  }
 },
 "nbformat": 4,
 "nbformat_minor": 5
}
