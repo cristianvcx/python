{
 "cells": [
  {
   "cell_type": "markdown",
   "id": "1e5da7fb",
   "metadata": {},
   "source": [
    "# Python de Cero a Experto\n",
    "En este primer notebook nos centraremos en ver las diferentes formas de escrituras que nos proporciona el Notebook de Jupiter"
   ]
  },
  {
   "cell_type": "markdown",
   "id": "8aeb1f78",
   "metadata": {},
   "source": [
    "# Titulo\n",
    "## Titulo\n",
    "### Titulo\n",
    "#### Titulo\n",
    "##### Titulo"
   ]
  },
  {
   "cell_type": "markdown",
   "id": "c8f90102",
   "metadata": {},
   "source": [
    "# `Titulo destacado`\n",
    "## `Titulo destacado`\n",
    "### `Titulo destacado`\n",
    "#### `Titulo destacado`"
   ]
  },
  {
   "cell_type": "markdown",
   "id": "586f5662",
   "metadata": {},
   "source": [
    "Esto es una simple lineas de texto"
   ]
  },
  {
   "cell_type": "markdown",
   "id": "a230f7dc",
   "metadata": {},
   "source": [
    "Esto es un simple texto destacado"
   ]
  },
  {
   "cell_type": "markdown",
   "id": "3c150217",
   "metadata": {},
   "source": [
    "**Texto en negrita**"
   ]
  },
  {
   "cell_type": "markdown",
   "id": "bd857c62",
   "metadata": {},
   "source": [
    "*Texto en cursiva*"
   ]
  },
  {
   "cell_type": "markdown",
   "id": "90a21b69",
   "metadata": {},
   "source": [
    "- Listas 1\n",
    "- Listas 2\n",
    "- Listas 3"
   ]
  },
  {
   "cell_type": "markdown",
   "id": "f75f4026",
   "metadata": {},
   "source": [
    "Eso es un texto plano en Raw"
   ]
  },
  {
   "cell_type": "markdown",
   "id": "2867300e",
   "metadata": {},
   "source": [
    "# Enlaces"
   ]
  },
  {
   "cell_type": "markdown",
   "id": "f6d421d4",
   "metadata": {},
   "source": [
    "Mas informacion en [Google](https://www.google.cl)"
   ]
  },
  {
   "cell_type": "markdown",
   "id": "b61dc6bd",
   "metadata": {},
   "source": [
    "# Comentarios\n",
    "Los comentarios nos ayudan en su mayoria de veces a escribir en dicho codigo para que nos sirve, es como una especie de ayuda de memoria En otras oportunidades lo utilizamos para que la linea de codigo no se ejecute, es de suma importancia a la hora realizar distintas pruebas sin la necesidad de borrar las lineas de codigo de cuestion"
   ]
  },
  {
   "cell_type": "code",
   "execution_count": 1,
   "id": "90b514c5",
   "metadata": {},
   "outputs": [
    {
     "data": {
      "text/plain": [
       "7"
      ]
     },
     "execution_count": 1,
     "metadata": {},
     "output_type": "execute_result"
    }
   ],
   "source": [
    "#Esto es un comentario que quedara fuera de la ejecucion del codigo\n",
    "5+2"
   ]
  },
  {
   "cell_type": "code",
   "execution_count": 2,
   "id": "a3aaec92",
   "metadata": {},
   "outputs": [
    {
     "data": {
      "text/plain": [
       "21"
      ]
     },
     "execution_count": 2,
     "metadata": {},
     "output_type": "execute_result"
    }
   ],
   "source": [
    "7 * 3 #Multiplicaremos dos numeros"
   ]
  },
  {
   "cell_type": "code",
   "execution_count": 3,
   "id": "6ee755af",
   "metadata": {},
   "outputs": [],
   "source": [
    "#5 / 2"
   ]
  },
  {
   "cell_type": "markdown",
   "id": "dd5cf00d",
   "metadata": {},
   "source": [
    "# Comentarios en multilineas"
   ]
  },
  {
   "cell_type": "code",
   "execution_count": 4,
   "id": "cca743ed",
   "metadata": {},
   "outputs": [
    {
     "data": {
      "text/plain": [
       "20"
      ]
     },
     "execution_count": 4,
     "metadata": {},
     "output_type": "execute_result"
    }
   ],
   "source": [
    "\"\"\" Este es un comentario multilinea.\n",
    "Esto tampoco se ejecutara\n",
    "A continuacion arrancara el codigo\"\"\"\n",
    "5 + 15"
   ]
  }
 ],
 "metadata": {
  "kernelspec": {
   "display_name": "Python 3 (ipykernel)",
   "language": "python",
   "name": "python3"
  },
  "language_info": {
   "codemirror_mode": {
    "name": "ipython",
    "version": 3
   },
   "file_extension": ".py",
   "mimetype": "text/x-python",
   "name": "python",
   "nbconvert_exporter": "python",
   "pygments_lexer": "ipython3",
   "version": "3.11.3"
  }
 },
 "nbformat": 4,
 "nbformat_minor": 5
}
