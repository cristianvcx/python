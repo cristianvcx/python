{
 "cells": [
  {
   "cell_type": "markdown",
   "id": "4f2b5720",
   "metadata": {},
   "source": [
    "## Variables numericas"
   ]
  },
  {
   "cell_type": "markdown",
   "id": "3a5e4be4",
   "metadata": {},
   "source": [
    "### Existe dos tipo de variables numericas:\n",
    "- `int` : numero entero\n",
    "- `float` : numero en coma flotante\n",
    "\n",
    "Para saber el tipo de dato podemos utilizar la funcion `type()`"
   ]
  },
  {
   "cell_type": "code",
   "execution_count": 3,
   "id": "9280e155",
   "metadata": {},
   "outputs": [
    {
     "data": {
      "text/plain": [
       "int"
      ]
     },
     "execution_count": 3,
     "metadata": {},
     "output_type": "execute_result"
    }
   ],
   "source": [
    "n=7\n",
    "type(n)"
   ]
  },
  {
   "cell_type": "code",
   "execution_count": 2,
   "id": "e9845729",
   "metadata": {},
   "outputs": [
    {
     "data": {
      "text/plain": [
       "float"
      ]
     },
     "execution_count": 2,
     "metadata": {},
     "output_type": "execute_result"
    }
   ],
   "source": [
    "n=7.0\n",
    "type(n)"
   ]
  },
  {
   "cell_type": "code",
   "execution_count": 5,
   "id": "7b91c416",
   "metadata": {},
   "outputs": [
    {
     "data": {
      "text/plain": [
       "float"
      ]
     },
     "execution_count": 5,
     "metadata": {},
     "output_type": "execute_result"
    }
   ],
   "source": [
    "n=7.\n",
    "type(n)"
   ]
  },
  {
   "cell_type": "markdown",
   "id": "f426d271",
   "metadata": {},
   "source": [
    "Si tenemos un numero de tipo `float()` lo podemos cambiar `int()` o viceversa:"
   ]
  },
  {
   "cell_type": "code",
   "execution_count": 1,
   "id": "6af61386",
   "metadata": {},
   "outputs": [
    {
     "data": {
      "text/plain": [
       "int"
      ]
     },
     "execution_count": 1,
     "metadata": {},
     "output_type": "execute_result"
    }
   ],
   "source": [
    "n=7.0\n",
    "type(int(n))"
   ]
  },
  {
   "cell_type": "code",
   "execution_count": 4,
   "id": "29b7a389",
   "metadata": {},
   "outputs": [
    {
     "data": {
      "text/plain": [
       "float"
      ]
     },
     "execution_count": 4,
     "metadata": {},
     "output_type": "execute_result"
    }
   ],
   "source": [
    "type(float(n))"
   ]
  },
  {
   "cell_type": "markdown",
   "id": "148059cf",
   "metadata": {},
   "source": [
    "##### ¡Cuidado! Si transformamos un numero con decimales a un numero entero, perderemos la parte decimal"
   ]
  },
  {
   "cell_type": "code",
   "execution_count": 6,
   "id": "80bc3579",
   "metadata": {},
   "outputs": [
    {
     "data": {
      "text/plain": [
       "int"
      ]
     },
     "execution_count": 6,
     "metadata": {},
     "output_type": "execute_result"
    }
   ],
   "source": [
    "n = 7.0\n",
    "type(int(n))"
   ]
  },
  {
   "cell_type": "markdown",
   "id": "b3706558",
   "metadata": {},
   "source": [
    " ## Operaciones aritmeticas"
   ]
  },
  {
   "cell_type": "markdown",
   "id": "19a7f95c",
   "metadata": {},
   "source": [
    "### Suma\n",
    "Para sumar dos numeros, utilizamos la funcion `+`"
   ]
  },
  {
   "cell_type": "code",
   "execution_count": 7,
   "id": "65ba1b8a",
   "metadata": {},
   "outputs": [
    {
     "data": {
      "text/plain": [
       "15"
      ]
     },
     "execution_count": 7,
     "metadata": {},
     "output_type": "execute_result"
    }
   ],
   "source": [
    "n1 = 7\n",
    "n2 = 8\n",
    "\n",
    "n1 + n2"
   ]
  },
  {
   "cell_type": "code",
   "execution_count": 8,
   "id": "6f275ccc",
   "metadata": {},
   "outputs": [
    {
     "data": {
      "text/plain": [
       "6.5"
      ]
     },
     "execution_count": 8,
     "metadata": {},
     "output_type": "execute_result"
    }
   ],
   "source": [
    "n1=3.5\n",
    "n2=3.\n",
    "\n",
    "n1 + n2"
   ]
  },
  {
   "cell_type": "code",
   "execution_count": 9,
   "id": "6c354462",
   "metadata": {},
   "outputs": [
    {
     "data": {
      "text/plain": [
       "20.0"
      ]
     },
     "execution_count": 9,
     "metadata": {},
     "output_type": "execute_result"
    }
   ],
   "source": [
    "n1=15\n",
    "n2=5.0\n",
    "\n",
    "n1 + n2"
   ]
  },
  {
   "cell_type": "markdown",
   "id": "f3f9a5ad",
   "metadata": {},
   "source": [
    "#### Nota: Al operar un numero entero (int) y un numero con decimales (float), el resultado dara un numero float. "
   ]
  },
  {
   "cell_type": "markdown",
   "id": "4ef1a533",
   "metadata": {},
   "source": [
    "### Resta\n",
    "Para restar dos numeros, utilizamos la funcion `-`"
   ]
  },
  {
   "cell_type": "code",
   "execution_count": 10,
   "id": "e0718090",
   "metadata": {},
   "outputs": [
    {
     "data": {
      "text/plain": [
       "5"
      ]
     },
     "execution_count": 10,
     "metadata": {},
     "output_type": "execute_result"
    }
   ],
   "source": [
    "n1=10\n",
    "n2=5\n",
    "\n",
    "n1 - n2"
   ]
  },
  {
   "cell_type": "code",
   "execution_count": 11,
   "id": "be32e412",
   "metadata": {},
   "outputs": [
    {
     "data": {
      "text/plain": [
       "1.0"
      ]
     },
     "execution_count": 11,
     "metadata": {},
     "output_type": "execute_result"
    }
   ],
   "source": [
    "n1=4.0\n",
    "n2=3.\n",
    "\n",
    "n1 - n2"
   ]
  },
  {
   "cell_type": "code",
   "execution_count": 12,
   "id": "ee974c5e",
   "metadata": {},
   "outputs": [
    {
     "data": {
      "text/plain": [
       "12.0"
      ]
     },
     "execution_count": 12,
     "metadata": {},
     "output_type": "execute_result"
    }
   ],
   "source": [
    "n1=7\n",
    "n2=5.0\n",
    "\n",
    "n1 + n2"
   ]
  },
  {
   "cell_type": "markdown",
   "id": "ad6fae82",
   "metadata": {},
   "source": [
    "### Multiplicacion\n",
    "Para multiplicar dos numeros, utilizamos la funcion `*`"
   ]
  },
  {
   "cell_type": "code",
   "execution_count": 13,
   "id": "83a6c9e8",
   "metadata": {},
   "outputs": [
    {
     "data": {
      "text/plain": [
       "48"
      ]
     },
     "execution_count": 13,
     "metadata": {},
     "output_type": "execute_result"
    }
   ],
   "source": [
    "n1=6\n",
    "n2=8\n",
    "\n",
    "n1 * n2"
   ]
  },
  {
   "cell_type": "code",
   "execution_count": 14,
   "id": "7c6ff00f",
   "metadata": {},
   "outputs": [
    {
     "data": {
      "text/plain": [
       "48.0"
      ]
     },
     "execution_count": 14,
     "metadata": {},
     "output_type": "execute_result"
    }
   ],
   "source": [
    "n1=6\n",
    "n2=8.\n",
    "\n",
    "n1 * n2"
   ]
  },
  {
   "cell_type": "code",
   "execution_count": 15,
   "id": "a0d84446",
   "metadata": {},
   "outputs": [
    {
     "data": {
      "text/plain": [
       "48.0"
      ]
     },
     "execution_count": 15,
     "metadata": {},
     "output_type": "execute_result"
    }
   ],
   "source": [
    "n1=6.0\n",
    "n2=8\n",
    "\n",
    "n1 * n2"
   ]
  },
  {
   "cell_type": "markdown",
   "id": "e831307b",
   "metadata": {},
   "source": [
    "### Division\n",
    "Para dividir dos numeros, utilizamos la funcion `/`"
   ]
  },
  {
   "cell_type": "code",
   "execution_count": 16,
   "id": "409b5fc9",
   "metadata": {},
   "outputs": [
    {
     "data": {
      "text/plain": [
       "2.0"
      ]
     },
     "execution_count": 16,
     "metadata": {},
     "output_type": "execute_result"
    }
   ],
   "source": [
    "n1=12\n",
    "n2=6\n",
    "\n",
    "n1 / n2"
   ]
  },
  {
   "cell_type": "code",
   "execution_count": 18,
   "id": "67b561a5",
   "metadata": {},
   "outputs": [
    {
     "data": {
      "text/plain": [
       "4.0"
      ]
     },
     "execution_count": 18,
     "metadata": {},
     "output_type": "execute_result"
    }
   ],
   "source": [
    "n1=12.\n",
    "n2=3.\n",
    "\n",
    "n1 / n2"
   ]
  },
  {
   "cell_type": "code",
   "execution_count": 19,
   "id": "d375f564",
   "metadata": {},
   "outputs": [
    {
     "data": {
      "text/plain": [
       "2.6666666666666665"
      ]
     },
     "execution_count": 19,
     "metadata": {},
     "output_type": "execute_result"
    }
   ],
   "source": [
    "n1=8\n",
    "n2=3.0\n",
    "\n",
    "n1 / n2"
   ]
  },
  {
   "cell_type": "markdown",
   "id": "ae6baecf",
   "metadata": {},
   "source": [
    "### Division entera\n",
    "Para obtener el cociente de la division entera (Cuanta veces cae un numero), utilizamos la funcion `//`"
   ]
  },
  {
   "cell_type": "code",
   "execution_count": 20,
   "id": "42ee4191",
   "metadata": {},
   "outputs": [
    {
     "data": {
      "text/plain": [
       "4"
      ]
     },
     "execution_count": 20,
     "metadata": {},
     "output_type": "execute_result"
    }
   ],
   "source": [
    "n1=9\n",
    "n2=2\n",
    "\n",
    "n1 // n2"
   ]
  },
  {
   "cell_type": "markdown",
   "id": "bdb0a474",
   "metadata": {},
   "source": [
    "Para obtener el resto de la divsion entera (Lo que sobra), utilizamos la funcion `%`"
   ]
  },
  {
   "cell_type": "code",
   "execution_count": 21,
   "id": "e1cb0d14",
   "metadata": {},
   "outputs": [
    {
     "data": {
      "text/plain": [
       "1"
      ]
     },
     "execution_count": 21,
     "metadata": {},
     "output_type": "execute_result"
    }
   ],
   "source": [
    "n1=9\n",
    "n2=2\n",
    "\n",
    "n1 % n2"
   ]
  },
  {
   "cell_type": "markdown",
   "id": "b0feb567",
   "metadata": {},
   "source": [
    "### Potencia\n",
    "Para calcular la potencia de un numero, usamos la funcion `**`"
   ]
  },
  {
   "cell_type": "code",
   "execution_count": 22,
   "id": "b780f9a6",
   "metadata": {},
   "outputs": [
    {
     "data": {
      "text/plain": [
       "8"
      ]
     },
     "execution_count": 22,
     "metadata": {},
     "output_type": "execute_result"
    }
   ],
   "source": [
    "n1=2\n",
    "n2=3\n",
    "\n",
    "n1 ** n2"
   ]
  },
  {
   "cell_type": "code",
   "execution_count": 23,
   "id": "80d4552a",
   "metadata": {},
   "outputs": [
    {
     "data": {
      "text/plain": [
       "8.0"
      ]
     },
     "execution_count": 23,
     "metadata": {},
     "output_type": "execute_result"
    }
   ],
   "source": [
    "n1=2.0\n",
    "n2=3.0\n",
    "\n",
    "n1 ** n2"
   ]
  },
  {
   "cell_type": "code",
   "execution_count": 24,
   "id": "67f97814",
   "metadata": {},
   "outputs": [
    {
     "data": {
      "text/plain": [
       "8.0"
      ]
     },
     "execution_count": 24,
     "metadata": {},
     "output_type": "execute_result"
    }
   ],
   "source": [
    "n1=2.0\n",
    "n2=3\n",
    "\n",
    "n1 ** n2"
   ]
  },
  {
   "cell_type": "markdown",
   "id": "057df4b9",
   "metadata": {},
   "source": [
    "### Orden de las operaciones aritmeticas\n",
    "El orden de las operaciones es una regla que indica la secuencia correcta de pasos para evaluar una expresion matematica.\n",
    "\n",
    "Podemos recordar el orden usando las siguientes siglas `PEMDSR`: Parentesis, Exponentes, Multiplicacion y Division (de izquierda a derecha), Suma y Resta (de izquierda a derecha) "
   ]
  },
  {
   "cell_type": "code",
   "execution_count": 26,
   "id": "e7aa69b0",
   "metadata": {},
   "outputs": [],
   "source": [
    "n1=8\n",
    "n2=1\n",
    "n3=5\n",
    "n4=2\n",
    "n5=3\n",
    "n6=2"
   ]
  },
  {
   "cell_type": "code",
   "execution_count": 27,
   "id": "742c6a6d",
   "metadata": {},
   "outputs": [
    {
     "data": {
      "text/plain": [
       "1.5"
      ]
     },
     "execution_count": 27,
     "metadata": {},
     "output_type": "execute_result"
    }
   ],
   "source": [
    "n1 + n2 * n3 / n4 - n5 ** n6 "
   ]
  },
  {
   "cell_type": "code",
   "execution_count": 28,
   "id": "15b5625b",
   "metadata": {},
   "outputs": [
    {
     "data": {
      "text/plain": [
       "2.25"
      ]
     },
     "execution_count": 28,
     "metadata": {},
     "output_type": "execute_result"
    }
   ],
   "source": [
    "(n1 + n2) * (n3 / n4 - n5) ** n6"
   ]
  },
  {
   "cell_type": "code",
   "execution_count": 29,
   "id": "77beb924",
   "metadata": {},
   "outputs": [
    {
     "data": {
      "text/plain": [
       "45.0"
      ]
     },
     "execution_count": 29,
     "metadata": {},
     "output_type": "execute_result"
    }
   ],
   "source": [
    "(n1 + n2) * n3 / (n4 - n5) ** n6"
   ]
  },
  {
   "cell_type": "markdown",
   "id": "3319c156",
   "metadata": {},
   "source": [
    "### Operadores de asignacion"
   ]
  },
  {
   "cell_type": "code",
   "execution_count": 30,
   "id": "600b15c7",
   "metadata": {},
   "outputs": [
    {
     "data": {
      "text/plain": [
       "8"
      ]
     },
     "execution_count": 30,
     "metadata": {},
     "output_type": "execute_result"
    }
   ],
   "source": [
    "n = 5\n",
    "n + 3"
   ]
  },
  {
   "cell_type": "markdown",
   "id": "4ce5f3dd",
   "metadata": {},
   "source": [
    "Se puede guardar el resultado en una nueva variable"
   ]
  },
  {
   "cell_type": "code",
   "execution_count": 31,
   "id": "7e5914e0",
   "metadata": {},
   "outputs": [
    {
     "data": {
      "text/plain": [
       "7"
      ]
     },
     "execution_count": 31,
     "metadata": {},
     "output_type": "execute_result"
    }
   ],
   "source": [
    "resultado = n + 2\n",
    "resultado"
   ]
  },
  {
   "cell_type": "markdown",
   "id": "60f0aaad",
   "metadata": {},
   "source": [
    "##### Nota: La variable `n` vale `5`, luego le sumamos `3` pero no se ha guardado, solamente se ha mostrado por lo tanto `n` sigue saliendo `5`, es por ello que al sumarte `2` el resultado nos da `7` \n",
    "\n",
    "Para que en vez de que solamente se muestre el valor se decea guardar dicho resultado, debemos asignarselo a la misma variable:"
   ]
  },
  {
   "cell_type": "code",
   "execution_count": 33,
   "id": "a28b2716",
   "metadata": {},
   "outputs": [
    {
     "data": {
      "text/plain": [
       "8"
      ]
     },
     "execution_count": 33,
     "metadata": {},
     "output_type": "execute_result"
    }
   ],
   "source": [
    "n = 5\n",
    "n = n + 3\n",
    "n"
   ]
  },
  {
   "cell_type": "markdown",
   "id": "5185100a",
   "metadata": {},
   "source": [
    "Otra forma de sobreescribir una variable numerica "
   ]
  },
  {
   "cell_type": "code",
   "execution_count": 34,
   "id": "8e275249",
   "metadata": {},
   "outputs": [
    {
     "data": {
      "text/plain": [
       "10"
      ]
     },
     "execution_count": 34,
     "metadata": {},
     "output_type": "execute_result"
    }
   ],
   "source": [
    "n += 2\n",
    "n"
   ]
  },
  {
   "cell_type": "markdown",
   "id": "43773d0b",
   "metadata": {},
   "source": [
    "##### Nota: Tambien podemos utilizar `-=`, `*=`, `/=`, `//=`, `%=` y `**=`."
   ]
  },
  {
   "cell_type": "markdown",
   "id": "e9abc49f",
   "metadata": {},
   "source": [
    "### Variable numerica negativa"
   ]
  },
  {
   "cell_type": "code",
   "execution_count": 36,
   "id": "92506d95",
   "metadata": {},
   "outputs": [
    {
     "data": {
      "text/plain": [
       "0"
      ]
     },
     "execution_count": 36,
     "metadata": {},
     "output_type": "execute_result"
    }
   ],
   "source": [
    "n1=-5\n",
    "n2=5\n",
    "\n",
    "n1 + n2"
   ]
  },
  {
   "cell_type": "code",
   "execution_count": 37,
   "id": "602fa00c",
   "metadata": {},
   "outputs": [
    {
     "data": {
      "text/plain": [
       "-10"
      ]
     },
     "execution_count": 37,
     "metadata": {},
     "output_type": "execute_result"
    }
   ],
   "source": [
    "n1-n2"
   ]
  },
  {
   "cell_type": "code",
   "execution_count": 38,
   "id": "6da079df",
   "metadata": {},
   "outputs": [
    {
     "data": {
      "text/plain": [
       "-25"
      ]
     },
     "execution_count": 38,
     "metadata": {},
     "output_type": "execute_result"
    }
   ],
   "source": [
    "n1 * n2"
   ]
  },
  {
   "cell_type": "code",
   "execution_count": 39,
   "id": "bbbb5126",
   "metadata": {},
   "outputs": [
    {
     "data": {
      "text/plain": [
       "-1.0"
      ]
     },
     "execution_count": 39,
     "metadata": {},
     "output_type": "execute_result"
    }
   ],
   "source": [
    "n1 / n2"
   ]
  }
 ],
 "metadata": {
  "kernelspec": {
   "display_name": "Python 3 (ipykernel)",
   "language": "python",
   "name": "python3"
  },
  "language_info": {
   "codemirror_mode": {
    "name": "ipython",
    "version": 3
   },
   "file_extension": ".py",
   "mimetype": "text/x-python",
   "name": "python",
   "nbconvert_exporter": "python",
   "pygments_lexer": "ipython3",
   "version": "3.11.3"
  }
 },
 "nbformat": 4,
 "nbformat_minor": 5
}
